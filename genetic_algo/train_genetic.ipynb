{
 "cells": [
  {
   "cell_type": "code",
   "execution_count": null,
   "metadata": {
    "collapsed": true
   },
   "outputs": [],
   "source": [
    "import copy\n",
    "import numpy as np\n",
    "from random import choice\n",
    "from genetic_AI import strategy\n",
    "from gomoku_web_genetic import *"
   ]
  },
  {
   "cell_type": "code",
   "execution_count": null,
   "metadata": {
    "collapsed": true
   },
   "outputs": [],
   "source": [
    "board_size = 15\n",
    "train_times = 500"
   ]
  },
  {
   "cell_type": "code",
   "execution_count": null,
   "metadata": {
    "collapsed": true
   },
   "outputs": [],
   "source": [
    "def play_game(AI1_score, AI2_score):\n",
    "    players = ['parent', 'child']\n",
    "    game = Gomoku_Web(board_size=15, players=players, score=[AI1_score, AI2_score], silent_mode=True)\n",
    "    \n",
    "    p = __import__(\"genetic_AI\")\n",
    "    game.players[0].strategy = p.strategy\n",
    "    game.players[0].strategy.is_ai=True\n",
    "    game.players[0].score=score[0]\n",
    "    game.players[1].strategy = p.strategy\n",
    "    game.players[1].strategy.is_ai=True\n",
    "    game.players[1].score=score[1]\n",
    "\n",
    "    center = ((board_size+1) / 2, (board_size+1) / 2)\n",
    "    next_action, winner = game.web_play(center)\n",
    "    while not winner:\n",
    "        next_action, winner = game.web_play(next_action)\n",
    "    game.print_board()\n",
    "\n",
    "    print winner\n",
    "    return winner"
   ]
  },
  {
   "cell_type": "code",
   "execution_count": null,
   "metadata": {
    "collapsed": true
   },
   "outputs": [],
   "source": [
    "score_original = [1000000, 20000, 6100, 6000, 1100, 1000, 300, 290, 290, 290, 100, 10, 3, 1, \n",
    "                  1000000, 100000, 65000, 65000, 5500, 5000, 200, 200, 200, 200, 90, 9, 4, 1]"
   ]
  },
  {
   "cell_type": "code",
   "execution_count": null,
   "metadata": {
    "collapsed": true
   },
   "outputs": [],
   "source": [
    "def get_new_score(score):\n",
    "    changed = choice(np.arange(len(score)))\n",
    "    new_score = score_original[:changed]\n",
    "    new_score.append(score[changed] * 1.03)\n",
    "    new_score.extend(score[changed+1: ])\n",
    "    return new_score"
   ]
  },
  {
   "cell_type": "code",
   "execution_count": null,
   "metadata": {
    "collapsed": true
   },
   "outputs": [],
   "source": [
    "score_child = get_new_score(score_original)"
   ]
  },
  {
   "cell_type": "code",
   "execution_count": null,
   "metadata": {
    "collapsed": true
   },
   "outputs": [],
   "source": [
    "score = [score_original, score_child]"
   ]
  },
  {
   "cell_type": "code",
   "execution_count": null,
   "metadata": {
    "collapsed": true
   },
   "outputs": [],
   "source": [
    "latest_score = score_original"
   ]
  },
  {
   "cell_type": "code",
   "execution_count": null,
   "metadata": {},
   "outputs": [],
   "source": [
    "for i in range(train_times):\n",
    "    print 'Round', i+1\n",
    "    if play_game(score_original, score_child) == 'child':\n",
    "        print 'Update!'\n",
    "        score_original = copy.deepcopy(score_child)\n",
    "        score_child = get_new_score(score_original)\n",
    "        latest_score = score_original\n",
    "    else:\n",
    "        score_child = get_new_score(score_original)\n",
    "        print 'Find a new child!'"
   ]
  },
  {
   "cell_type": "code",
   "execution_count": null,
   "metadata": {
    "collapsed": true
   },
   "outputs": [],
   "source": []
  }
 ],
 "metadata": {
  "kernelspec": {
   "display_name": "Python [conda root]",
   "language": "python",
   "name": "conda-root-py"
  },
  "language_info": {
   "codemirror_mode": {
    "name": "ipython",
    "version": 2
   },
   "file_extension": ".py",
   "mimetype": "text/x-python",
   "name": "python",
   "nbconvert_exporter": "python",
   "pygments_lexer": "ipython2",
   "version": "2.7.13"
  }
 },
 "nbformat": 4,
 "nbformat_minor": 2
}
